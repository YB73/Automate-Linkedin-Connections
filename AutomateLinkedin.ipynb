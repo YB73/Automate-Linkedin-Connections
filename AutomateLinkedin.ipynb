{
 "cells": [
  {
   "cell_type": "code",
   "execution_count": 3,
   "id": "6c430079",
   "metadata": {},
   "outputs": [
    {
     "ename": "NameError",
     "evalue": "name '__main__' is not defined",
     "output_type": "error",
     "traceback": [
      "\u001b[1;31m---------------------------------------------------------------------------\u001b[0m",
      "\u001b[1;31mNameError\u001b[0m                                 Traceback (most recent call last)",
      "\u001b[1;32m~\\AppData\\Local\\Temp/ipykernel_28508/1145722860.py\u001b[0m in \u001b[0;36m<module>\u001b[1;34m\u001b[0m\n\u001b[0;32m     48\u001b[0m \u001b[1;33m\u001b[0m\u001b[0m\n\u001b[0;32m     49\u001b[0m \u001b[1;31m# Driver's code\u001b[0m\u001b[1;33m\u001b[0m\u001b[1;33m\u001b[0m\u001b[1;33m\u001b[0m\u001b[0m\n\u001b[1;32m---> 50\u001b[1;33m \u001b[1;32mif\u001b[0m \u001b[0m__name__\u001b[0m \u001b[1;33m==\u001b[0m \u001b[0m__main__\u001b[0m\u001b[1;33m:\u001b[0m\u001b[1;33m\u001b[0m\u001b[1;33m\u001b[0m\u001b[0m\n\u001b[0m\u001b[0;32m     51\u001b[0m         \u001b[0mmain\u001b[0m\u001b[1;33m(\u001b[0m\u001b[1;33m)\u001b[0m\u001b[1;33m\u001b[0m\u001b[1;33m\u001b[0m\u001b[0m\n",
      "\u001b[1;31mNameError\u001b[0m: name '__main__' is not defined"
     ]
    }
   ],
   "source": [
    "# connect python with webbrowser-chrome\n",
    "from selenium import webdriver\n",
    "from selenium.webdriver.common.keys import Keys\n",
    "import pyautogui as pag\n",
    "\n",
    "def main():\n",
    "\n",
    "\t# url of LinkedIn\n",
    "\turl = \"http://linkedin.com/\"\n",
    "\n",
    "\t# url of LinkedIn network page\n",
    "\tnetwork_url = \"https://www.linkedin.com/mynetwork/\"\n",
    "\n",
    "\t# path to browser web driver\n",
    "\tdriver = webdriver.Chrome('C:\\\\Users\\\\Yuvanna\\\\chromedriver_win32.exe')\t\n",
    "\tdriver.get(url)\n",
    "\n",
    "def login():\n",
    "\n",
    "\t# Getting the login element\n",
    "\tusername = driver.find_element_by_id(\"login-email\")\n",
    "\n",
    "\t# Sending the keys for username\t\n",
    "\tusername.send_keys(\"username\")\n",
    "\n",
    "\t# Getting the password element\t\t\t\t\t\t\t\t\n",
    "\tpassword = driver.find_element_by_id(\"login-password\")\n",
    "\n",
    "\t# Sending the keys for password\n",
    "\tpassword.send_keys(\"password\")\t\n",
    "\n",
    "\t# Getting the tag for submit button\t\t\t\t\t\n",
    "\tdriver.find_element_by_id(\"login-submit\").click()\t\t\n",
    "\n",
    "def goto_network():\n",
    "\tdriver.find_element_by_id(\"mynetwork-tab-icon\").click()\n",
    "\n",
    "def send_requests():\n",
    "\n",
    "\t# Number of requests you want to send\n",
    "\tn = input(\"Number of requests: \")\n",
    "\n",
    "\tfor i in range(0, n):\n",
    "\t\t# position(in px) of connection button\n",
    "\t\tpag.click(880, 770)\n",
    "\tprint(\"Done !\")\n",
    "\n",
    "\n",
    "# Driver's code\n",
    "if __name__ == __main__:\n",
    "\tmain()\n"
   ]
  },
  {
   "cell_type": "code",
   "execution_count": null,
   "id": "58114c92",
   "metadata": {},
   "outputs": [],
   "source": []
  }
 ],
 "metadata": {
  "kernelspec": {
   "display_name": "Python 3 (ipykernel)",
   "language": "python",
   "name": "python3"
  },
  "language_info": {
   "codemirror_mode": {
    "name": "ipython",
    "version": 3
   },
   "file_extension": ".py",
   "mimetype": "text/x-python",
   "name": "python",
   "nbconvert_exporter": "python",
   "pygments_lexer": "ipython3",
   "version": "3.9.6"
  }
 },
 "nbformat": 4,
 "nbformat_minor": 5
}
